{
 "cells": [
  {
   "cell_type": "code",
   "execution_count": 3,
   "id": "3f244fd4",
   "metadata": {},
   "outputs": [
    {
     "name": "stdout",
     "output_type": "stream",
     "text": [
      "Hola Mundo\n"
     ]
    }
   ],
   "source": [
    "print(\"Hola Mundo\")"
   ]
  },
  {
   "cell_type": "code",
   "execution_count": null,
   "id": "69b8f1e9",
   "metadata": {},
   "outputs": [
    {
     "name": "stdout",
     "output_type": "stream",
     "text": [
      "Jesus\n",
      "Kamel\n"
     ]
    }
   ],
   "source": [
    "nombre = \"Jesus\"\n",
    "apellido = \"Kamel\"\n",
    "\n",
    "print(nombre)\n",
    "print(apellido)"
   ]
  },
  {
   "cell_type": "code",
   "execution_count": 8,
   "id": "fe53b56c",
   "metadata": {},
   "outputs": [
    {
     "name": "stdout",
     "output_type": "stream",
     "text": [
      "Manzanas\n",
      "5\n",
      "Naranja\n"
     ]
    }
   ],
   "source": [
    "frutas = \"Manzanas\"\n",
    "print(frutas)\n",
    "cantidad_de_frutas = (\"5\")\n",
    "print(cantidad_de_frutas)\n",
    "frutas = \"Naranja\"\n",
    "print(frutas)"
   ]
  },
  {
   "cell_type": "markdown",
   "id": "c82778c6",
   "metadata": {},
   "source": [
    "### Tipos de datos:\n",
    "- int - integer - 1\n",
    "- float - floatin - 1.2\n",
    "- str - string - \"jesus\" \"kamel\"\n",
    "- bool - boolean - TRUE - FALSE"
   ]
  },
  {
   "cell_type": "code",
   "execution_count": 16,
   "id": "c152be52",
   "metadata": {},
   "outputs": [
    {
     "name": "stdout",
     "output_type": "stream",
     "text": [
      "35000\n",
      "\n",
      "30000\n",
      "\n",
      "40000\n",
      "\n",
      "8000\n",
      "\n"
     ]
    }
   ],
   "source": [
    "precio_total = 15000 + 20000\n",
    "print(precio_total)\n",
    "print(\"\")\n",
    "\n",
    "precio_de_descuento = precio_total - 5000\n",
    "print(precio_de_descuento)\n",
    "print(\"\")\n",
    "\n",
    "precio_gaseosa = 10000\n",
    "cantidad_de_gaseosa = 4\n",
    "costo_total = precio_gaseosa * cantidad_de_gaseosa\n",
    "print(costo_total)\n",
    "print(\"\")\n",
    "\n",
    "cantidad_de_personas = 5\n",
    "precio_individual_final = costo_total // cantidad_de_personas\n",
    "print(precio_individual_final)\n",
    "print(\"\")"
   ]
  },
  {
   "cell_type": "markdown",
   "id": "50b94281",
   "metadata": {},
   "source": [
    "# Challenge 1:\n",
    "\n",
    "Suma: asignar dos números en dos variables diferentes \"cantidad_de_manzanas\" y \"cantidad_de_naranjas\". Luego sumar ambas variables en \"cantidad_de_frutas\". Imprimir la última variable.\n",
    "\n",
    "Resta: asignar un valor numérico a la variable \"frutas_vendidas\". Luego, asignar la resta entre \"cantidad_de_frutas\" y \"frutas_vendidas\" a la variable frutas_restantes. Imprimir la última variable."
   ]
  },
  {
   "cell_type": "code",
   "execution_count": null,
   "id": "87992775",
   "metadata": {},
   "outputs": [
    {
     "name": "stdout",
     "output_type": "stream",
     "text": [
      "Cantidad de Manzanas:\n",
      "10\n",
      "\n",
      "Cantidad de Naranjas:\n",
      "20\n",
      "\n",
      "Cantidad de Frutas\n",
      "30\n",
      "\n",
      "\n",
      "Frutas Vendidas:\n",
      "18\n",
      "\n",
      "Frutas Restantes:\n",
      "12\n"
     ]
    }
   ],
   "source": [
    "cantidad_de_manzanas = 10\n",
    "cantidad_de_naranja = 20\n",
    "cantidad_de_frutas = cantidad_de_manzanas + cantidad_de_naranja\n",
    "\n",
    "print(\"Cantidad de Manzanas:\")\n",
    "print(cantidad_de_manzanas)\n",
    "print(\"\")\n",
    "\n",
    "print(\"Cantidad de Naranjas:\")\n",
    "print(cantidad_de_naranja)\n",
    "print(\"\")\n",
    "\n",
    "print(\"Cantidad de Frutas\")\n",
    "print(cantidad_de_frutas)\n",
    "print(\"\")\n",
    "print(\"\")\n",
    "\n",
    "\n",
    "frutas_vendidas = 18\n",
    "frutas_restantes = cantidad_de_frutas - frutas_vendidas\n",
    "\n",
    "print(\"Frutas Vendidas:\")\n",
    "print(frutas_vendidas)\n",
    "print(\"\")\n",
    "\n",
    "print(\"Frutas Restantes:\")\n",
    "print(frutas_restantes)"
   ]
  },
  {
   "cell_type": "code",
   "execution_count": 50,
   "id": "b3731572",
   "metadata": {},
   "outputs": [
    {
     "name": "stdout",
     "output_type": "stream",
     "text": [
      "Jesus Kamel\n",
      "\n",
      "Saludo:\n",
      "Hola, mi nombre es: Jesus Kamel. Un gusto\n",
      "Hola, mi nombre es: Jesus Kamel. Un gusto\n",
      "Hola, mi nombre es: Jesus Kamel\n"
     ]
    }
   ],
   "source": [
    "nombre = \"Jesus\"\n",
    "apellido = \"Kamel\"\n",
    "\n",
    "nombre_completo = nombre + \" \" + apellido\n",
    "print(nombre_completo)\n",
    "print(\"\")\n",
    "\n",
    "print(\"Saludo:\")\n",
    "print(\"Hola, mi nombre es:\" + \" \" + nombre + \" \" + apellido + \".\" + \" \" + \"Un gusto\")\n",
    "print(f\"Hola, mi nombre es: {nombre} {apellido}. Un gusto\")\n",
    "\n",
    "# La \",\" no concatena\n",
    "print(\"Hola, mi nombre es:\",nombre_completo)"
   ]
  },
  {
   "cell_type": "markdown",
   "id": "a424fb7b",
   "metadata": {},
   "source": [
    "# Challenge 2:\n",
    "\n",
    "Asignar el nombre y el apellido de tu compañera/o a las variables nombre y apellido. Luego, imprimir una frase, utilizando las variables.\n",
    "EJEMPLO: \"Hola. Me llamo Claudia Melgarejo. Mucho gusto.\""
   ]
  },
  {
   "cell_type": "code",
   "execution_count": 37,
   "id": "9bcc7313",
   "metadata": {},
   "outputs": [
    {
     "name": "stdout",
     "output_type": "stream",
     "text": [
      "Encantada, me llamo Sofia Caballero, un placer.\n"
     ]
    }
   ],
   "source": [
    "nombre = \"Sofia\"\n",
    "apellido = \"Caballero\"\n",
    "\n",
    "print(f\"Encantada, me llamo {nombre} {apellido}, un placer.\")"
   ]
  },
  {
   "cell_type": "code",
   "execution_count": 49,
   "id": "f1adccea",
   "metadata": {},
   "outputs": [
    {
     "name": "stdout",
     "output_type": "stream",
     "text": [
      "Jesus Kamel\n"
     ]
    }
   ],
   "source": [
    "nombre = input(\"Cual es tu nombre?\")\n",
    "print(nombre)"
   ]
  },
  {
   "cell_type": "code",
   "execution_count": 55,
   "id": "304b5736",
   "metadata": {},
   "outputs": [
    {
     "name": "stdout",
     "output_type": "stream",
     "text": [
      "15\n"
     ]
    }
   ],
   "source": [
    "numero1 = int(input(\"Dame un numero\"))\n",
    "numero2 = int(input(\"Dame otro numero\"))\n",
    "\n",
    "suma = numero1 +numero2\n",
    "print(suma)"
   ]
  },
  {
   "cell_type": "markdown",
   "id": "79ac6a5b",
   "metadata": {},
   "source": [
    "# Challenge 3:\n",
    "\n",
    "Solicitar al usuario ingresar dos números y almacenarlos en dos variables. Luego, imprimir la suma de los dos números."
   ]
  },
  {
   "cell_type": "code",
   "execution_count": 67,
   "id": "ec4add32",
   "metadata": {},
   "outputs": [
    {
     "name": "stdout",
     "output_type": "stream",
     "text": [
      "Usuario:\n",
      "Kamel\n",
      "\n",
      "Primer numero: 15\n",
      "Segundo numero: 10\n",
      " \n",
      "La suma de los numeros de Kamel es: 25\n"
     ]
    }
   ],
   "source": [
    "Usuario = input(\"Nombre de Usuario:\")\n",
    "print(\"Usuario:\")\n",
    "print(Usuario)\n",
    "print(\"\")\n",
    "\n",
    "numero1 = int(input(f\"Usuario {Usuario}, inserte el primer numero\"))\n",
    "print(f\"Primer numero: {numero1}\")\n",
    "\n",
    "numero2 = int(input(f\"Usuario {Usuario}, deme un segundo numero\"))\n",
    "print(f\"Segundo numero: {numero2}\")\n",
    "\n",
    "print(\" \")\n",
    "suma = numero1 + numero2\n",
    "print(f\"La suma de los numeros de {Usuario} es: {suma}\")"
   ]
  },
  {
   "cell_type": "code",
   "execution_count": 75,
   "id": "46b6bf4e",
   "metadata": {},
   "outputs": [
    {
     "name": "stdout",
     "output_type": "stream",
     "text": [
      "\"Dame un combinacion simple...\"\n",
      "Jab\n",
      "Directo\n",
      "Gancho de izquierda\n",
      "Uppercut de derecha\n",
      "\n",
      "\"Bien, ahora de nuevo...\"\n",
      "Jab\n",
      "Directo\n",
      "Gancho de izquierda\n",
      "Uppercut de derecha\n",
      "\n",
      "\"Perfecto, una ultima vez...\"\n",
      "Jab\n",
      "Directo\n",
      "Gancho de izquierda\n",
      "Uppercut de derecha\n",
      "\n",
      "\n",
      "\"Listo, pasemos a lo siguiente...\"\n"
     ]
    }
   ],
   "source": [
    "def combinacion_basica_de_box():\n",
    "    print(\"Jab\")\n",
    "    print(\"Directo\")\n",
    "    print(\"Gancho de izquierda\")\n",
    "    print(\"Uppercut de derecha\")\n",
    "\n",
    "print('\"Dame un combinacion simple...\"')\n",
    "combinacion_basica_de_box()\n",
    "print(\"\")\n",
    "\n",
    "print('\"Bien, ahora de nuevo...\"')\n",
    "combinacion_basica_de_box()\n",
    "print(\"\")\n",
    "\n",
    "print('\"Perfecto, una ultima vez...\"')\n",
    "combinacion_basica_de_box()\n",
    "print(\"\")\n",
    "print(\"\")\n",
    "\n",
    "print('\"Listo, pasemos a lo siguiente...\"')"
   ]
  },
  {
   "cell_type": "markdown",
   "id": "217d39e9",
   "metadata": {},
   "source": [
    "# Challenge 5\n",
    "\n",
    "Escribir una funcion que nos pregunte las caracteriticas de un elemento a comprar e imprima el elemento con sus caracteristicas."
   ]
  },
  {
   "cell_type": "code",
   "execution_count": 96,
   "id": "efa286d7",
   "metadata": {},
   "outputs": [
    {
     "name": "stdout",
     "output_type": "stream",
     "text": [
      "Elija su Pan:\n",
      "Ciabatta con Queso.\n",
      "\n",
      "Elija 7 ingredientes:\n",
      "Catupiry, Cheddar, Panceta, Mozzarella, Jamon Crudo, Bacon y Pepperoni.\n"
     ]
    }
   ],
   "source": [
    "def pan_de_bahiano(tipo_de_panes):\n",
    "    print(\"Elija su Pan:\")\n",
    "    print(tipo_de_panes)\n",
    "\n",
    "def sandwich_de_bahiano(ingredientes):\n",
    "    print(\"Elija 7 ingredientes:\")\n",
    "    print(ingredientes)\n",
    "\n",
    "pan_de_bahiano(\"Ciabatta con Queso.\")\n",
    "print(\"\")\n",
    "sandwich_de_bahiano(\"Catupiry, Cheddar, Panceta, Mozzarella, Jamon Crudo, Bacon y Pepperoni.\")"
   ]
  },
  {
   "cell_type": "code",
   "execution_count": null,
   "id": "92ce4b28",
   "metadata": {},
   "outputs": [
    {
     "name": "stdout",
     "output_type": "stream",
     "text": [
      "d\n"
     ]
    }
   ],
   "source": [
    "\n",
    "def pasta_de_bellini(ingredientes):\n",
    "    ingredientes = input(\"Pollo\",\"Queso\")\n",
    "    input(\"Elija 8 ingredientes\")\n",
    "    input(\"Otro mas...\")\n",
    "    input(\"Otro mas...\")\n",
    "    input(\"Otro mas...\")\n",
    "    input(\"Otro mas...\")\n",
    "    input(\"Otro mas...\")\n",
    "    input(\"Otro mas...\")\n",
    "    input(\"Ultimo ingrediente\")\n",
    "\n",
    "print(input(\"Elija su pasta\"))\n",
    "pasta_de_bellini()\n",
    "\n"
   ]
  },
  {
   "cell_type": "code",
   "execution_count": null,
   "id": "45d0faaf",
   "metadata": {},
   "outputs": [],
   "source": [
    "def ingredientebellini():\n",
    "    lista = []\n",
    "    while len(lista) <= 8:\n",
    "        ingredinte = input('Que ingrediente dese agregar?')\n",
    "        \n"
   ]
  }
 ],
 "metadata": {
  "kernelspec": {
   "display_name": "Python 3",
   "language": "python",
   "name": "python3"
  },
  "language_info": {
   "codemirror_mode": {
    "name": "ipython",
    "version": 3
   },
   "file_extension": ".py",
   "mimetype": "text/x-python",
   "name": "python",
   "nbconvert_exporter": "python",
   "pygments_lexer": "ipython3",
   "version": "3.13.3"
  }
 },
 "nbformat": 4,
 "nbformat_minor": 5
}
