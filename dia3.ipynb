{
 "cells": [
  {
   "cell_type": "code",
   "execution_count": 2,
   "id": "1a4ea0d7",
   "metadata": {},
   "outputs": [
    {
     "name": "stdout",
     "output_type": "stream",
     "text": [
      "Hola Mundo\n"
     ]
    }
   ],
   "source": [
    "def saludo_de_bienvenida():\n",
    "    print(\"Hola Mundo\")\n",
    "\n",
    "saludo_de_bienvenida()"
   ]
  },
  {
   "cell_type": "markdown",
   "id": "e8dff553",
   "metadata": {},
   "source": [
    "# Challenge 1:\n",
    "\n",
    "Crear una funcion que imprima la variable palabra"
   ]
  },
  {
   "cell_type": "code",
   "execution_count": 11,
   "id": "5b31b1ad",
   "metadata": {},
   "outputs": [
    {
     "name": "stdout",
     "output_type": "stream",
     "text": [
      "Tiago\n"
     ]
    }
   ],
   "source": [
    "def imprimir_variable(variable):\n",
    "    print(variable)\n",
    "\n",
    "imprimir_variable(input(\"Escriba la variable\"))\n"
   ]
  },
  {
   "cell_type": "code",
   "execution_count": 24,
   "id": "4afd394a",
   "metadata": {},
   "outputs": [
    {
     "name": "stdout",
     "output_type": "stream",
     "text": [
      "Tiago\n"
     ]
    }
   ],
   "source": [
    "def imprimir_variable():\n",
    "    palabra = input(\"Escriba la variable\")\n",
    "    print(palabra)\n",
    "\n",
    "imprimir_variable()"
   ]
  },
  {
   "cell_type": "markdown",
   "id": "6366694a",
   "metadata": {},
   "source": [
    "# Challenge 2:\n",
    "\n",
    "Crear una función que reciba dos letras (parámetros) y que verifique si son iguales:\n",
    "\n",
    "1. Si son iguales, imprimir \"Las letras son iguales\".\n",
    "\n",
    "2. De lo contrario, imprimir \"Las letras son diferentes\"."
   ]
  },
  {
   "cell_type": "code",
   "execution_count": null,
   "id": "45c18a6e",
   "metadata": {},
   "outputs": [
    {
     "name": "stdout",
     "output_type": "stream",
     "text": [
      "Las letras son iguales\n"
     ]
    }
   ],
   "source": [
    "def coincidencia(primera, segunda):\n",
    "    if primera == segunda:\n",
    "        print(\"Las letras son iguales\")\n",
    "    else:\n",
    "        print(\"Las letras son diferentes\")\n",
    "\n",
    "coincidencia(input(\"Escriba la primera letra\"), input(\"Escriba la segunda letra\"))"
   ]
  },
  {
   "cell_type": "markdown",
   "id": "5a99a311",
   "metadata": {},
   "source": [
    "# Challenge 3:\n",
    "\n",
    "Crear una función que reciba dos parámetros (una palabra y un número), y que retorne True si el número es igual a la cantidad de letras de la palabra. En caso contrario, que retorne False.\n",
    "\n",
    "Pista: cantidad de letras de una palabra en python"
   ]
  },
  {
   "cell_type": "code",
   "execution_count": 28,
   "id": "475da977",
   "metadata": {},
   "outputs": [
    {
     "data": {
      "text/plain": [
       "True"
      ]
     },
     "execution_count": 28,
     "metadata": {},
     "output_type": "execute_result"
    }
   ],
   "source": [
    "def cuantos_numeros(palabra, numero):\n",
    "    if len(palabra) == numero:\n",
    "        return True\n",
    "    else:\n",
    "        return False\n",
    "\n",
    "cuantos_numeros(input(\"Introduzca una palabra\"), int(input(\"Introduzca un numero\")))"
   ]
  },
  {
   "cell_type": "markdown",
   "id": "bfbee159",
   "metadata": {},
   "source": [
    "# Challenge 4:\n",
    "\n",
    "Pedir al usuario que ingrese 1 palabra, luego convertir esa palabra a una lista con sus caracteres con list(). Agregar esa lista de caracteres a una lista llamada palabras_ingresadas. Repetir el proceso 3 veces. Cada vez que se agregue una lista de caracteres, imprimir la lista palabras_ingresadas.\n",
    "\n",
    "\n",
    "Ejemplo del resultado esperado:\n",
    "\n",
    "[['c', 'i', 'e', 'l', 'o']]\n",
    " ### Al ingresar la primera palabra\n",
    "\n",
    "[['c', 'i', 'e', 'l', 'o'], ['c', 'a', 'l', 'o', 'r']]\n",
    " ### Al ingresar la segunda palabra\n",
    "\n",
    "[['c', 'i', 'e', 'l', 'o'], ['c', 'a', 'l', 'o', 'r'], ['n', 'u', 'b', 'e', 's']]\n",
    " ### Al ingresar la tercera palabra"
   ]
  },
  {
   "cell_type": "code",
   "execution_count": 48,
   "id": "9d21e98e",
   "metadata": {},
   "outputs": [
    {
     "name": "stdout",
     "output_type": "stream",
     "text": [
      "['O', 'l', 'a', 'f']\n",
      "\n"
     ]
    },
    {
     "ename": "TypeError",
     "evalue": "'builtin_function_or_method' object is not iterable",
     "output_type": "error",
     "traceback": [
      "\u001b[31m---------------------------------------------------------------------------\u001b[39m",
      "\u001b[31mTypeError\u001b[39m                                 Traceback (most recent call last)",
      "\u001b[36mCell\u001b[39m\u001b[36m \u001b[39m\u001b[32mIn[48]\u001b[39m\u001b[32m, line 7\u001b[39m\n\u001b[32m      4\u001b[39m \u001b[38;5;28mprint\u001b[39m(\u001b[38;5;28mlist\u001b[39m(primera_palabra))\n\u001b[32m      5\u001b[39m \u001b[38;5;28mprint\u001b[39m(\u001b[33m\"\u001b[39m\u001b[33m\"\u001b[39m)\n\u001b[32m----> \u001b[39m\u001b[32m7\u001b[39m \u001b[38;5;28;43mlist\u001b[39;49m\u001b[43m(\u001b[49m\u001b[43mprimera_palabra\u001b[49m\u001b[43m.\u001b[49m\u001b[43mstrip\u001b[49m\u001b[43m)\u001b[49m == \u001b[38;5;28mlist\u001b[39m(primera_palabra.append(\u001b[38;5;28minput\u001b[39m(\u001b[33m\"\u001b[39m\u001b[33mIngrese otra palabra\u001b[39m\u001b[33m\"\u001b[39m)))\n\u001b[32m      8\u001b[39m \u001b[38;5;28mprint\u001b[39m(\u001b[38;5;28mlist\u001b[39m(primera_palabra.strip))\n",
      "\u001b[31mTypeError\u001b[39m: 'builtin_function_or_method' object is not iterable"
     ]
    }
   ],
   "source": [
    "for primera_palabra in range(1):\n",
    "    \n",
    "    primera_palabra = input(\"Ingrese una palabra\")\n",
    "    print(list(primera_palabra))\n",
    "    print(\"\")\n",
    "\n",
    "    list(primera_palabra.strip) == list(primera_palabra.append(input(\"Ingrese otra palabra\")))\n",
    "    print(list(primera_palabra.strip))\n",
    "\n",
    "\n",
    "    \n",
    "\n",
    "\n",
    "\n",
    "\n",
    "    \n"
   ]
  },
  {
   "cell_type": "markdown",
   "id": "4bd16eee",
   "metadata": {},
   "source": [
    "# Challenge 5:\n",
    "\n",
    "Dada la lista de ejemplo: \n",
    "\n",
    "lista = [['h', 'o', 'l', 'i', 's'], ['h', 'e', 'l', 'l', 'o'], ['h', 'a', 'l', 'l', 'o']]\n",
    "\n",
    "Crear una función que imprima una grilla (lista de listas), una línea por cada lista dentro de la lista principal.\n",
    "\n",
    "Ejemplo del resultado esperado:\n",
    "\n",
    "- ['h', 'o', 'l', 'i', 's']\n",
    "- ['h', 'e', 'l', 'l', 'o']\n",
    "- ['h', 'a', 'l', 'l', 'o']"
   ]
  },
  {
   "cell_type": "code",
   "execution_count": null,
   "id": "80388e2f",
   "metadata": {},
   "outputs": [
    {
     "name": "stdout",
     "output_type": "stream",
     "text": [
      "['h', 'o', 'l', 'i', 's']\n",
      "['h', 'e', 'l', 'l', 'o']\n",
      "['h', 'a', 'l', 'l', 'o']\n",
      "\n",
      "[['h', 'o', 'l', 'i', 's'], ['h', 'e', 'l', 'l', 'o'], ['h', 'a', 'l', 'l', 'o']]\n",
      "[['h', 'o', 'l', 'i', 's'], ['h', 'e', 'l', 'l', 'o'], ['h', 'a', 'l', 'l', 'o']]\n",
      "[['h', 'o', 'l', 'i', 's'], ['h', 'e', 'l', 'l', 'o'], ['h', 'a', 'l', 'l', 'o']]\n"
     ]
    }
   ],
   "source": [
    "lista = [['h', 'o', 'l', 'i', 's'], ['h', 'e', 'l', 'l', 'o'], ['h', 'a', 'l', 'l', 'o']]\n",
    "\n",
    "def imprimir_grilla():\n",
    "    print(lista[0])\n",
    "    print(lista[1])\n",
    "    print(lista[2])\n",
    "\n",
    "imprimir_grilla()\n",
    "print(\"\")"
   ]
  },
  {
   "cell_type": "code",
   "execution_count": 52,
   "id": "e06281d9",
   "metadata": {},
   "outputs": [
    {
     "name": "stdout",
     "output_type": "stream",
     "text": [
      "h\n",
      "o\n",
      "l\n",
      "i\n",
      "s\n"
     ]
    }
   ],
   "source": [
    "for lista_de_lista in lista:\n",
    "    lista = list(lista_de_lista)\n",
    "    print(lista_de_lista)"
   ]
  },
  {
   "cell_type": "markdown",
   "id": "efd5c6c4",
   "metadata": {},
   "source": [
    "# Wordle:"
   ]
  },
  {
   "cell_type": "code",
   "execution_count": null,
   "id": "6693132a",
   "metadata": {},
   "outputs": [
    {
     "name": "stdout",
     "output_type": "stream",
     "text": [
      "Bienvenido al Mbordle\n",
      "Cual es la palabra del dia?:\n",
      "\n",
      "Game Over\n"
     ]
    }
   ],
   "source": [
    "palabra_correcta = \"Known\".lower()\n",
    "cantidad_de_letras = 5\n",
    "intentos = 6\n",
    "\n",
    "print(\"Bienvenido al Mbordle\")\n",
    "print(\"Cual es la palabra del dia?:\")\n",
    "print(\"\")\n",
    "\n",
    "while intentos > 0:\n",
    "    palabra_ingresada = input(\"Escribe una palabra con 5 letras\").lower()  \n",
    "    if palabra_ingresada == palabra_correcta:\n",
    "        print(\"\")\n",
    "        print(palabra_ingresada)\n",
    "        print(\"Palabra correcta\")\n",
    "        break\n",
    "    elif [palabra_ingresada] == [palabra_correcta]:\n",
    "        intentos = intentos - 1\n",
    "        print(list(palabra_ingresada))\n",
    "        print(\"Esta letra si es\")\n",
    "        break\n",
    "    else: \n",
    "        print(\"Game Over\")\n",
    "        break"
   ]
  }
 ],
 "metadata": {
  "kernelspec": {
   "display_name": "Python 3",
   "language": "python",
   "name": "python3"
  },
  "language_info": {
   "codemirror_mode": {
    "name": "ipython",
    "version": 3
   },
   "file_extension": ".py",
   "mimetype": "text/x-python",
   "name": "python",
   "nbconvert_exporter": "python",
   "pygments_lexer": "ipython3",
   "version": "3.13.3"
  }
 },
 "nbformat": 4,
 "nbformat_minor": 5
}
