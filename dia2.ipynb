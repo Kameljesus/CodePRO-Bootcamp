{
 "cells": [
  {
   "cell_type": "code",
   "execution_count": 10,
   "id": "e731643e",
   "metadata": {},
   "outputs": [
    {
     "name": "stdout",
     "output_type": "stream",
     "text": [
      "Buen Dia Kamel\n"
     ]
    }
   ],
   "source": [
    "def saludo_bienvenida(nombre):\n",
    "    print(f\"Buen Dia {nombre}\")\n",
    "\n",
    "saludo_bienvenida(\"Kamel\")"
   ]
  },
  {
   "cell_type": "code",
   "execution_count": null,
   "id": "2d1ef993",
   "metadata": {},
   "outputs": [
    {
     "name": "stdout",
     "output_type": "stream",
     "text": [
      "Buen dia Kamel\n"
     ]
    }
   ],
   "source": [
    "def saludo_bienvenida(nombre):\n",
    "    print(f\"Buen dia {nombre}\")\n",
    "\n",
    "usuario = input('Ingrese su nombre')\n",
    "\n",
    "saludo_bienvenida(usuario)"
   ]
  },
  {
   "cell_type": "markdown",
   "id": "6ce310c7",
   "metadata": {},
   "source": [
    "# Condicionales:\n",
    "\n"
   ]
  },
  {
   "cell_type": "markdown",
   "id": "b107f0d3",
   "metadata": {},
   "source": [
    "### Operadores de Comparacion:\n",
    "\n",
    "- Mayor >\n",
    "- Menor <\n",
    "- Mayor o igual >=\n",
    "- Menor o igual <=\n",
    "- Es igual ==\n",
    "- Diferente !=\n",
    "\n",
    "### Palabras Clave:\n",
    "\n",
    "- if (si)\n",
    "- elif (sino si)\n",
    "- else (sino)"
   ]
  },
  {
   "cell_type": "markdown",
   "id": "0a4ef507",
   "metadata": {},
   "source": [
    "# Challenge 1:\n",
    "\n",
    "Escribe un programa que pregunte al usuario por su edad y determine si tiene edad suficiente para comprar y consumir alcohol.\n",
    "- Si el usuario tiene mas de 18 pero menos de 21 impirmir \"Podes tomar pero no comprar\"\n",
    "- Si el usuario tiene menos de 18 imprimir \"Juguito nomas\"\n",
    "- Si el usuario tiene mas de 21 imprimir \"Hace lo que quieras\""
   ]
  },
  {
   "cell_type": "code",
   "execution_count": 27,
   "id": "31797d70",
   "metadata": {},
   "outputs": [
    {
     "name": "stdout",
     "output_type": "stream",
     "text": [
      "Buen Dia, edad?:\n",
      "21\n",
      "\n",
      "Haz lo que quieras.\n"
     ]
    }
   ],
   "source": [
    "print(\"Buen Dia, edad?:\")\n",
    "edad_de_la_persona = int(input(\"Escriba su edad\"))\n",
    "print(edad_de_la_persona)\n",
    "print(\"\")\n",
    "\n",
    "if edad_de_la_persona < 18:\n",
    "    print(\"Juguito na'mas.\")\n",
    "elif edad_de_la_persona < 21:\n",
    "    print(\"Puedes tomar, pero no comprar.\")\n",
    "else:\n",
    "    print(\"Haz lo que quieras.\")"
   ]
  },
  {
   "cell_type": "markdown",
   "id": "8ea4cbe3",
   "metadata": {},
   "source": [
    "# Operadores Lógicos\n",
    "\n",
    "- and(y) - Se cumple solo si ambas condiciones son verdaderas.\n",
    "- or (o) - Se cumple si al menos una de las condiciones es verdadera."
   ]
  },
  {
   "cell_type": "markdown",
   "id": "b31cb7db",
   "metadata": {},
   "source": [
    "# Challenge 2:\n",
    "\n",
    "Escribir un programa en el que se pregunte al usuario por una temperatura (en grados Celsius), imprima la temperatura escrita, y luego clasificar la temperatura ingresada en los siguientes niveles:\n",
    "\n",
    "- Entre -10 y 18 grados, que imprima \"Fresquete\".\n",
    "- Entre 19 y 30 grados, que imprima \"Calor'i\".\n",
    "- Entre 31 y 45 grados, que imprima \"Hakuuuuuu\".\n",
    "- Para todo lo demás, imprimir \"Ñamano mba'e!\"."
   ]
  },
  {
   "cell_type": "code",
   "execution_count": null,
   "id": "5fa903bb",
   "metadata": {},
   "outputs": [
    {
     "name": "stdout",
     "output_type": "stream",
     "text": [
      "Hola, en que temperatura estamos?\n",
      "22°C\n",
      "\n",
      "Calor'i\n"
     ]
    }
   ],
   "source": [
    "print(\"Hola, en que temperatura estamos?\")\n",
    "temperatura = int(input(\"En que temperatura estamos?\"))\n",
    "print(f\"{temperatura}°C\")\n",
    "print(\"\")\n",
    "\n",
    "if temperatura >= -10 and temperatura < 19:\n",
    "        print(\"Fresquete\")\n",
    "elif temperatura >= 19 and temperatura < 31:\n",
    "        print(\"Calor'i\")\n",
    "elif temperatura >= 31 and temperatura < 46:\n",
    "        print(\"Hakuuuuuu\")\n",
    "else:\n",
    "        print(\"Ñamano mba'e!\")"
   ]
  },
  {
   "cell_type": "markdown",
   "id": "6e7eb2d8",
   "metadata": {},
   "source": [
    "# Challenge 3:\n",
    "\n",
    "Escribir un programa que almacene una contraseña en una variable, y pregunte al usuario por la contraseña hasta que introduzca la contraseña correcta.\n",
    "\n",
    "Cuando el usuario ingrese la contrasena correcta, imprimir un mensaje secreto."
   ]
  },
  {
   "cell_type": "code",
   "execution_count": 56,
   "id": "356d5061",
   "metadata": {},
   "outputs": [
    {
     "name": "stdout",
     "output_type": "stream",
     "text": [
      "Contrasena Incorrecta\n",
      "Contrasena Incorrecta\n",
      "\n",
      "Acceso Aprobado\n"
     ]
    }
   ],
   "source": [
    "contrasena_correcta = 1234\n",
    "while True:\n",
    "    contrasena_intentada = int(input('Introduzca Contrasena de 4 digitos'))\n",
    "    if contrasena_correcta == contrasena_intentada:\n",
    "        print(\"\")\n",
    "        print('Acceso Aprobado')\n",
    "        break\n",
    "    else:\n",
    "        print('Contrasena Incorrecta')"
   ]
  },
  {
   "cell_type": "markdown",
   "id": "e495a34e",
   "metadata": {},
   "source": [
    "Indice:\n",
    "\n",
    "- 0 , 1 , 2 , ...\n",
    "\n",
    "Posicion:\n",
    "\n",
    "- 1 , 2 , 3 , ..."
   ]
  },
  {
   "cell_type": "markdown",
   "id": "4b9de4d9",
   "metadata": {},
   "source": [
    "# Challenge 4:\n",
    "\n",
    "Crear una lista de 5 elementos. Luego, seguir los siguientes pasos.\n",
    "\n",
    "- Agregar un elemento al final de la lista.\n",
    "\n",
    "- Modificar el segundo elemento.\n",
    "\n",
    "- Eliminar el tercer elemento."
   ]
  },
  {
   "cell_type": "code",
   "execution_count": 80,
   "id": "8f8de934",
   "metadata": {},
   "outputs": [
    {
     "name": "stdout",
     "output_type": "stream",
     "text": [
      "Queso Mozarella, Cangrejo, Jamon, Jamon de Pollo, Pollo.\n",
      "\n",
      "Queso Mozarella, Cangrejo, Jamon, Jamon de Pollo, Pollo, Picante.\n",
      "\n",
      "Queso Mozarella, Pancho, Jamon, Jamon de Pollo, Pollo, Picante.\n",
      "\n",
      "Queso Mozarella, Pancho, Jamon de Pollo, Pollo, Picante.\n",
      "\n"
     ]
    }
   ],
   "source": [
    "lista_de_ingredientes_de_bellini = [\"Queso Mozarella\" , \"Cangrejo\" , \"Jamon\" , \"Jamon de Pollo\" , \"Pollo\"]\n",
    "lista_bonita = \", \".join(lista_de_ingredientes_de_bellini)\n",
    "print(f\"{lista_bonita}.\")\n",
    "print(\"\")\n",
    "\n",
    "lista_de_ingredientes_de_bellini.append(\"Picante\")\n",
    "lista_bonita = \", \".join(lista_de_ingredientes_de_bellini)\n",
    "print(f\"{lista_bonita}.\")\n",
    "print(\"\")\n",
    "\n",
    "lista_de_ingredientes_de_bellini[1] = \"Pancho\"\n",
    "lista_bonita = \", \".join(lista_de_ingredientes_de_bellini)\n",
    "print(f\"{lista_bonita}.\")\n",
    "print(\"\")\n",
    "\n",
    "lista_de_ingredientes_de_bellini.remove(\"Jamon\")\n",
    "lista_bonita = \", \".join(lista_de_ingredientes_de_bellini)\n",
    "print(f\"{lista_bonita}.\")\n",
    "print(\"\")"
   ]
  },
  {
   "cell_type": "code",
   "execution_count": 82,
   "id": "194e4d61",
   "metadata": {},
   "outputs": [
    {
     "name": "stdout",
     "output_type": "stream",
     "text": [
      "Queso Mozarella, Cangrejo, Jamon, Jamon de Pollo, Pollo\n"
     ]
    }
   ],
   "source": [
    "lista_de_ingredientes_de_bellini = \", \".join([\"Queso Mozarella\" , \"Cangrejo\" , \"Jamon\" , \"Jamon de Pollo\" , \"Pollo\"])\n",
    "print(lista_de_ingredientes_de_bellini)"
   ]
  },
  {
   "cell_type": "markdown",
   "id": "cf589b67",
   "metadata": {},
   "source": [
    "# Challenge 5:\n",
    "\n",
    "Escribir un programa que itere en un rango de 10 veces. Por cada iteracion multiplicar el iterador por dos e imprimir el resultado."
   ]
  },
  {
   "cell_type": "code",
   "execution_count": null,
   "id": "732caa54",
   "metadata": {},
   "outputs": [
    {
     "name": "stdout",
     "output_type": "stream",
     "text": [
      "0\n",
      "2\n",
      "4\n",
      "6\n",
      "8\n",
      "10\n",
      "12\n",
      "14\n",
      "16\n",
      "18\n"
     ]
    }
   ],
   "source": [
    "for tabla_del_uno in range(10):\n",
    "    tabla_del_dos = tabla_del_uno * 2\n",
    "    print(tabla_del_dos)"
   ]
  },
  {
   "cell_type": "code",
   "execution_count": 108,
   "id": "8c545739",
   "metadata": {},
   "outputs": [
    {
     "name": "stdout",
     "output_type": "stream",
     "text": [
      "2\n",
      "4\n",
      "6\n",
      "8\n",
      "10\n",
      "12\n",
      "14\n",
      "16\n",
      "18\n",
      "20\n"
     ]
    }
   ],
   "source": [
    "for tabla_del_uno in range(1, 11):\n",
    "    tabla_del_dos = tabla_del_uno * 2\n",
    "    print(tabla_del_dos)"
   ]
  },
  {
   "cell_type": "markdown",
   "id": "29790276",
   "metadata": {},
   "source": [
    "# Challenge 6:\n",
    "\n",
    "Recorrer los elementos de una lista de marcas e imprimir cada marca solamente si tiene 6 letras o más."
   ]
  },
  {
   "cell_type": "code",
   "execution_count": 118,
   "id": "035eae49",
   "metadata": {},
   "outputs": [
    {
     "name": "stdout",
     "output_type": "stream",
     "text": [
      "Adidas\n",
      "Timberland\n",
      "Decathlon\n",
      "Everlast\n",
      "Python\n",
      "TAG Heuer\n",
      "New Balance\n"
     ]
    }
   ],
   "source": [
    "lista_de_marcas = [\"Adidas\", \"Nike\", \"Timberland\", \"Decathlon\", \"Everlast\", \"Python\", \"LG\", \"Apple\", \"Rolex\", \"TAG Heuer\", \"New Balance\"]\n",
    "for marcas in lista_de_marcas:\n",
    "    if len(marcas) >= 6:\n",
    "        print(marcas)"
   ]
  },
  {
   "cell_type": "markdown",
   "id": "8e9d2264",
   "metadata": {},
   "source": [
    "# Challenge 7:\n",
    "\n",
    "Solicitar al usuario que ingrese una frase.\n",
    "\n",
    "Imprimir un mensaje cada vez que se encuentre una letra \"o\"."
   ]
  },
  {
   "cell_type": "code",
   "execution_count": 15,
   "id": "d6557c3c",
   "metadata": {},
   "outputs": [
    {
     "name": "stdout",
     "output_type": "stream",
     "text": [
      "M\n",
      "o\n",
      "Aqui hay una \"o\"\n",
      "n\n",
      "o\n",
      "Aqui hay una \"o\"\n"
     ]
    }
   ],
   "source": [
    "for frase in input(\"Escriba una frase\"):\n",
    "    print(frase)\n",
    "    if frase == \"o\":\n",
    "        print('Aqui hay una \"o\"')"
   ]
  },
  {
   "cell_type": "code",
   "execution_count": 14,
   "id": "b60d6e92",
   "metadata": {},
   "outputs": [
    {
     "name": "stdout",
     "output_type": "stream",
     "text": [
      "H\n",
      "Aqui no hay \"o\"\n",
      "o\n",
      "Aqui hay una \"o\"\n",
      "l\n",
      "Aqui no hay \"o\"\n",
      "a\n",
      "Aqui no hay \"o\"\n"
     ]
    }
   ],
   "source": [
    "for frase in input(\"Escriba una frase\"):\n",
    "    print(frase)\n",
    "    if frase == \"o\":\n",
    "        print('Aqui hay una \"o\"')\n",
    "    else:\n",
    "        print('Aqui no hay \"o\"')"
   ]
  },
  {
   "cell_type": "code",
   "execution_count": null,
   "id": "848e624c",
   "metadata": {},
   "outputs": [],
   "source": [
    "oracion = input(\"escribe una frase:\")\n",
    "contador = 0\n",
    "\n",
    "for letra in oracion:\n",
    "    if letra.lower() == \"o\":\n",
    "        contador += 1\n",
    "\n",
    "print(f\"la letra o aparece {contador} veces\")"
   ]
  }
 ],
 "metadata": {
  "kernelspec": {
   "display_name": "Python 3",
   "language": "python",
   "name": "python3"
  },
  "language_info": {
   "codemirror_mode": {
    "name": "ipython",
    "version": 3
   },
   "file_extension": ".py",
   "mimetype": "text/x-python",
   "name": "python",
   "nbconvert_exporter": "python",
   "pygments_lexer": "ipython3",
   "version": "3.13.3"
  }
 },
 "nbformat": 4,
 "nbformat_minor": 5
}
